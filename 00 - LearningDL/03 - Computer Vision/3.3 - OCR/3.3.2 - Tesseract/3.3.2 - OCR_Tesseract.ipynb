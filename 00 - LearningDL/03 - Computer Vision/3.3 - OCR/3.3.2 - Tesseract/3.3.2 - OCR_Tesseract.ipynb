{
 "cells": [
  {
   "cell_type": "markdown",
   "id": "61fad14b-a436-4cef-84dc-1e2ce5e1935e",
   "metadata": {},
   "source": [
    "<p style=\"background-color:steelblue;font-family:newtimeroman;font-size:200%;color:white;text-align:center;border-radius:60px 20px;\"><b>OCR - Tesseract</b></p>"
   ]
  },
  {
   "cell_type": "markdown",
   "id": "33697ee4",
   "metadata": {},
   "source": [
    "[How To Install Tesseract - Youtube Video](https://www.youtube.com/watch?v=2kWvk4C1pMo)"
   ]
  },
  {
   "cell_type": "code",
   "execution_count": 1,
   "id": "37f8a32a-187c-4dc5-8ea0-50f92141af81",
   "metadata": {},
   "outputs": [
    {
     "name": "stdout",
     "output_type": "stream",
     "text": [
      "Defaulting to user installation because normal site-packages is not writeable\n",
      "Collecting pytesseract\n",
      "  Downloading pytesseract-0.3.10-py3-none-any.whl.metadata (11 kB)\n",
      "Requirement already satisfied: packaging>=21.3 in c:\\programdata\\anaconda3\\lib\\site-packages (from pytesseract) (23.1)\n",
      "Requirement already satisfied: Pillow>=8.0.0 in c:\\programdata\\anaconda3\\lib\\site-packages (from pytesseract) (10.2.0)\n",
      "Downloading pytesseract-0.3.10-py3-none-any.whl (14 kB)\n",
      "Installing collected packages: pytesseract\n",
      "Successfully installed pytesseract-0.3.10\n",
      "Note: you may need to restart the kernel to use updated packages.\n"
     ]
    },
    {
     "name": "stderr",
     "output_type": "stream",
     "text": [
      "  WARNING: The script pytesseract.exe is installed in 'C:\\Users\\mertu\\AppData\\Roaming\\Python\\Python311\\Scripts' which is not on PATH.\n",
      "  Consider adding this directory to PATH or, if you prefer to suppress this warning, use --no-warn-script-location.\n"
     ]
    }
   ],
   "source": [
    "# pip install pytesseract"
   ]
  },
  {
   "cell_type": "markdown",
   "id": "b7818f3e-1dde-4e8a-8ffa-218198a0d5e6",
   "metadata": {},
   "source": [
    "# <font color='steelblue'> <b>Image 1</b><font color='black'>  "
   ]
  },
  {
   "cell_type": "code",
   "execution_count": 1,
   "id": "bce47b7d",
   "metadata": {},
   "outputs": [
    {
     "name": "stdout",
     "output_type": "stream",
     "text": [
      "Extracted Text:\n",
      " EXPECTATIONS\n",
      "\n",
      "Foundation Models\n",
      "-AlAugmented Software Engheering —\n",
      "\n",
      "La\n",
      "\n",
      "Prompt Engineering\n",
      "\n",
      "leData\n",
      "Language Models\n",
      "\n",
      "GenAl Workload Accelerators\n",
      "\n",
      "\\GenAlEnabied Virtual\n",
      "‘Assistants\n",
      "\n",
      "As of September 202\n",
      "\n",
      "Transfer Leaming\n",
      "Generate Al Enabled Apleatons\n",
      "Retiea Augmented Generation\n",
      "angOps —)\n",
      "Matimedal Gena\n",
      "SetiSupervsed Lesmog\n",
      "Open Source LLMs\n",
      "Nadel\n",
      "Anca General iaience\n",
      "‘Seaton\n",
      "Demi\n",
      "RenforcementLearinggh Specie\n",
      "Frembuman Feedback GenAl Models\n",
      "Voctr Databases\n",
      "Autonomous Agents\n",
      "stunts 2% 6en4!Aopletion\n",
      "spe ims” Orchestatn Frameworks\n",
      "Innoveton Peakotinftes\n",
      "Tiger Expectations\n",
      "\n",
      "Plateau wllbereached: © <2yrs. © 2-Syrs. @ 5-10yr.\n",
      "\n",
      "Trough of Slope of\n",
      "Disilusionment Enightenment\n",
      "\n",
      "TIME\n",
      "‘A m1oyrs.  & Obsolete before piateau\n",
      "\n",
      "Plateau of\n",
      "Productivity\n",
      "\n",
      "Gartner\n",
      "\n"
     ]
    }
   ],
   "source": [
    "from PIL import Image\n",
    "import pytesseract\n",
    "import os\n",
    "\n",
    "# Path to the Tesseract executable\n",
    "pytesseract.pytesseract.tesseract_cmd = r'C:\\Program Files\\Tesseract-OCR\\tesseract.exe'\n",
    "\n",
    "# Path to the 'tessdata' directory\n",
    "tessdata_path = r'C:\\Program Files\\Tesseract-OCR\\tessdata'\n",
    "\n",
    "# Specify the path to the image\n",
    "image_path = 'gen_ai_hc_2023.png'\n",
    "\n",
    "# Set the 'TESSDATA_PREFIX' environment variable for this script\n",
    "os.environ['TESSDATA_PREFIX'] = tessdata_path\n",
    "\n",
    "# Open the image using Pillow\n",
    "img = Image.open(image_path)\n",
    "\n",
    "# Perform OCR\n",
    "text = pytesseract.image_to_string(img)\n",
    "\n",
    "# Print the extracted text\n",
    "print(\"Extracted Text:\\n\", text)"
   ]
  },
  {
   "cell_type": "markdown",
   "id": "eb7242ea-ca30-486e-a4df-d77578fcf64f",
   "metadata": {},
   "source": [
    "# <font color='steelblue'> <b>Image 2</b><font color='black'>  "
   ]
  },
  {
   "cell_type": "code",
   "execution_count": 5,
   "id": "9ff81ffc",
   "metadata": {},
   "outputs": [
    {
     "name": "stdout",
     "output_type": "stream",
     "text": [
      "Extracted Text:\n",
      " Sector 17\n",
      "Vashi\n",
      "‘New Bombay\n",
      "\n",
      "6th July. 2013,\n",
      "\n",
      "Dear Maya\n",
      "\n",
      "Thank you very much for your last letter. It was great to hear\n",
      "from you after so many months. You seem to be having a\n",
      "nice time in France.\n",
      "\n",
      "Thanks also for the photographs. I absolutely loved that snap\n",
      "of yours standing in front of the Eiffel Tower. France looks\n",
      "stunning. Someday, I would definitely le to go there.\n",
      "\n",
      "There’s not much happening here. I am busy with my work\n",
      "and kids.\n",
      "\n",
      "By the way, are you coming home anytime soon? If you are,\n",
      "let me know the dates and we can arrange to meet up.\n",
      "\n",
      "Hope to see you soon!\n",
      "\n",
      "\n"
     ]
    }
   ],
   "source": [
    "# Specify the path to the image\n",
    "image_path = 'letter.gif'\n",
    "\n",
    "# Open the image using Pillow\n",
    "img = Image.open(image_path)\n",
    "\n",
    "# Perform OCR\n",
    "text = pytesseract.image_to_string(img)\n",
    "\n",
    "# Print the extracted text\n",
    "print(\"Extracted Text:\\n\", text)\n"
   ]
  },
  {
   "cell_type": "markdown",
   "id": "f98e62fa-05ff-4904-8c48-7a44667c874e",
   "metadata": {},
   "source": [
    "# <font color='steelblue'> <b>Image 3</b><font color='black'>  "
   ]
  },
  {
   "cell_type": "code",
   "execution_count": 6,
   "id": "745aefb2",
   "metadata": {},
   "outputs": [
    {
     "name": "stdout",
     "output_type": "stream",
     "text": [
      "Extracted Text:\n",
      " ’ Caddesi weno le Ji,8>\n",
      "MESRUTIYET MAHALLES! - CANKAYA TN10\n",
      "~ ur .\n",
      "\n",
      "—\n",
      "bd\n",
      "ew\n",
      "o~\n",
      "\n",
      "\n"
     ]
    }
   ],
   "source": [
    "# Specify the path to the image\n",
    "image_path = 'tabela.jpg'\n",
    "\n",
    "# Open the image using Pillow\n",
    "img = Image.open(image_path)\n",
    "\n",
    "# Perform OCR\n",
    "text = pytesseract.image_to_string(img)\n",
    "\n",
    "# Print the extracted text\n",
    "print(\"Extracted Text:\\n\", text)"
   ]
  },
  {
   "cell_type": "markdown",
   "id": "db3ec92f-ba65-4923-b1cc-fbf531e05f46",
   "metadata": {},
   "source": [
    "<p style=\"background-color:steelblue;font-family:newtimeroman;font-size:200%;color:white;text-align:center;border-radius:60px 20px;\"><b>THANK YOU!</b></p>"
   ]
  }
 ],
 "metadata": {
  "kernelspec": {
   "display_name": "Python 3 (ipykernel)",
   "language": "python",
   "name": "python3"
  },
  "language_info": {
   "codemirror_mode": {
    "name": "ipython",
    "version": 3
   },
   "file_extension": ".py",
   "mimetype": "text/x-python",
   "name": "python",
   "nbconvert_exporter": "python",
   "pygments_lexer": "ipython3",
   "version": "3.12.4"
  }
 },
 "nbformat": 4,
 "nbformat_minor": 5
}
